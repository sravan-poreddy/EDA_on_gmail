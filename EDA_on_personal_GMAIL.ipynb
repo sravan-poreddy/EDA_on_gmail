{
 "cells": [
  {
   "cell_type": "code",
   "execution_count": 1,
   "metadata": {},
   "outputs": [],
   "source": [
    "import numpy as np\n",
    "import pandas as pd\n",
    "import matplotlib.pyplot as plt\n",
    "\n",
    "import csv"
   ]
  },
  {
   "cell_type": "code",
   "execution_count": null,
   "metadata": {},
   "outputs": [],
   "source": [
    "# !pip install mailbox"
   ]
  },
  {
   "cell_type": "code",
   "execution_count": null,
   "metadata": {},
   "outputs": [],
   "source": [
    "import mailbox\n",
    "mboxfile = \"sravan_gmail.mbox\"\n",
    "\n",
    "mbox = mailbox.mbox(mboxfile)"
   ]
  },
  {
   "cell_type": "code",
   "execution_count": null,
   "metadata": {},
   "outputs": [],
   "source": [
    "mbox[0].keys()"
   ]
  },
  {
   "cell_type": "code",
   "execution_count": null,
   "metadata": {},
   "outputs": [],
   "source": [
    "keys = ['Subject', 'From','Date', 'To', 'Label', 'Thread','Message-ID']\n",
    "message_list = []\n",
    "\n",
    "for message in mbox.itervalues():\n",
    "    dmessage = dict(message.items())\n",
    "    message_list.append({key:dmessage[key] if key in dmessage.keys() else '' for key in keys})"
   ]
  },
  {
   "cell_type": "code",
   "execution_count": null,
   "metadata": {},
   "outputs": [],
   "source": [
    "message_list[0]"
   ]
  },
  {
   "cell_type": "code",
   "execution_count": null,
   "metadata": {
    "scrolled": true
   },
   "outputs": [],
   "source": [
    "with open(\"gmail_data.csv\", 'w', newline='', encoding='utf-8') as csvfile:\n",
    "    writer = csv.DictWriter(csvfile, fieldnames=list(message_list[0].keys()))\n",
    "    writer.writeheader()\n",
    "    for data in message_list:\n",
    "        writer.writerow(data)"
   ]
  },
  {
   "cell_type": "code",
   "execution_count": 2,
   "metadata": {},
   "outputs": [],
   "source": [
    "# df = pd.read_csv(\"gmail_data.csv\",parse_dates=[\"Date\"], date_parser=pd.to_datetime) \n",
    "# Above---> Didnt work because of ParserError: Unknown string format: Wed, 30 Oct 2019 19:55:18 +0530 (GMT+05:30)\n",
    "\n",
    "df = pd.read_csv(\"gmail_data.csv\")"
   ]
  },
  {
   "cell_type": "code",
   "execution_count": 3,
   "metadata": {},
   "outputs": [],
   "source": [
    "df.Date = df.Date.apply(lambda x: x[:-12] if str(x).endswith(\"(GMT+05:30)\") else x)"
   ]
  },
  {
   "cell_type": "code",
   "execution_count": 4,
   "metadata": {},
   "outputs": [],
   "source": [
    "df[\"Date_Time\"] = pd.to_datetime(df.Date,utc=True,errors=\"coerce\")   \n",
    "# This is consuming more time. any alternative ?"
   ]
  },
  {
   "cell_type": "code",
   "execution_count": 5,
   "metadata": {
    "scrolled": false
   },
   "outputs": [
    {
     "data": {
      "text/plain": [
       "Subject        8695\n",
       "From              1\n",
       "Date           8538\n",
       "To             8584\n",
       "Label         36429\n",
       "Thread        36429\n",
       "Message-ID    10599\n",
       "Date_Time      8538\n",
       "dtype: int64"
      ]
     },
     "execution_count": 5,
     "metadata": {},
     "output_type": "execute_result"
    }
   ],
   "source": [
    "# Checking for NULL values\n",
    "df.isnull().sum()"
   ]
  },
  {
   "cell_type": "code",
   "execution_count": 6,
   "metadata": {},
   "outputs": [],
   "source": [
    "df.drop(columns=[\"Message-ID\",\"Label\",\"Thread\",\"Date\"],inplace=True)\n",
    "df = df[df.Date_Time.notnull()]  "
   ]
  },
  {
   "cell_type": "code",
   "execution_count": 7,
   "metadata": {
    "scrolled": true
   },
   "outputs": [],
   "source": [
    "df.Date_Time = df.Date_Time.dt.tz_convert(\"Asia/Kolkata\")"
   ]
  },
  {
   "cell_type": "code",
   "execution_count": 8,
   "metadata": {
    "scrolled": false
   },
   "outputs": [
    {
     "data": {
      "text/html": [
       "<div>\n",
       "<style scoped>\n",
       "    .dataframe tbody tr th:only-of-type {\n",
       "        vertical-align: middle;\n",
       "    }\n",
       "\n",
       "    .dataframe tbody tr th {\n",
       "        vertical-align: top;\n",
       "    }\n",
       "\n",
       "    .dataframe thead th {\n",
       "        text-align: right;\n",
       "    }\n",
       "</style>\n",
       "<table border=\"1\" class=\"dataframe\">\n",
       "  <thead>\n",
       "    <tr style=\"text-align: right;\">\n",
       "      <th></th>\n",
       "      <th>Subject</th>\n",
       "      <th>From</th>\n",
       "      <th>To</th>\n",
       "      <th>Date_Time</th>\n",
       "    </tr>\n",
       "  </thead>\n",
       "  <tbody>\n",
       "    <tr>\n",
       "      <th>10171</th>\n",
       "      <td>Enjoy 15% off* at over 850 restaurants with St...</td>\n",
       "      <td>\"Standard Chartered Card\" &lt;info@lucifro.com&gt;</td>\n",
       "      <td>sravanporeddy@gmail.com</td>\n",
       "      <td>2020-02-22 15:26:27+05:30</td>\n",
       "    </tr>\n",
       "    <tr>\n",
       "      <th>9674</th>\n",
       "      <td>=?UTF-8?B?VGhpbmtpbmcgYWJvdXQgUm9hZHN0ZXIgVHNo...</td>\n",
       "      <td>=?UTF-8?B?TXludHJh?= &lt;info@myntra.com&gt;</td>\n",
       "      <td>sravanporeddy@gmail.com</td>\n",
       "      <td>2020-01-23 12:56:34+05:30</td>\n",
       "    </tr>\n",
       "    <tr>\n",
       "      <th>25</th>\n",
       "      <td>Latest tech now with additional savings.</td>\n",
       "      <td>DELL India &lt;info@pbengage.payback.in&gt;</td>\n",
       "      <td>sravanporeddy@gmail.com</td>\n",
       "      <td>2020-10-28 15:23:55+05:30</td>\n",
       "    </tr>\n",
       "  </tbody>\n",
       "</table>\n",
       "</div>"
      ],
      "text/plain": [
       "                                                 Subject  \\\n",
       "10171  Enjoy 15% off* at over 850 restaurants with St...   \n",
       "9674   =?UTF-8?B?VGhpbmtpbmcgYWJvdXQgUm9hZHN0ZXIgVHNo...   \n",
       "25              Latest tech now with additional savings.   \n",
       "\n",
       "                                               From                       To  \\\n",
       "10171  \"Standard Chartered Card\" <info@lucifro.com>  sravanporeddy@gmail.com   \n",
       "9674         =?UTF-8?B?TXludHJh?= <info@myntra.com>  sravanporeddy@gmail.com   \n",
       "25            DELL India <info@pbengage.payback.in>  sravanporeddy@gmail.com   \n",
       "\n",
       "                      Date_Time  \n",
       "10171 2020-02-22 15:26:27+05:30  \n",
       "9674  2020-01-23 12:56:34+05:30  \n",
       "25    2020-10-28 15:23:55+05:30  "
      ]
     },
     "execution_count": 8,
     "metadata": {},
     "output_type": "execute_result"
    }
   ],
   "source": [
    "df.sample(3)"
   ]
  },
  {
   "cell_type": "code",
   "execution_count": 9,
   "metadata": {},
   "outputs": [],
   "source": [
    "df.sort_values(by=[\"Date_Time\"], ignore_index=True,inplace=True)"
   ]
  },
  {
   "cell_type": "markdown",
   "metadata": {},
   "source": [
    "### Frequeny of mails Daily"
   ]
  },
  {
   "cell_type": "code",
   "execution_count": 10,
   "metadata": {
    "scrolled": true
   },
   "outputs": [],
   "source": [
    "df[\"Date\"] = df.Date_Time.dt.date\n",
    "df[\"Day\"] = df.Date_Time.dt.strftime(\"%a\")\n",
    "df[\"Time\"] = df.Date_Time.dt.time"
   ]
  },
  {
   "cell_type": "code",
   "execution_count": 11,
   "metadata": {},
   "outputs": [],
   "source": [
    "df[\"Mail_Sent\"] = df.From.apply(lambda x: \"Yes\" if str(x).endswith(\"<sravanporeddy@gmail.com>\")\\\n",
    "                                else \"No\")\n",
    "sent = df[df.Mail_Sent==\"Yes\"]"
   ]
  },
  {
   "cell_type": "code",
   "execution_count": 12,
   "metadata": {
    "scrolled": true
   },
   "outputs": [],
   "source": [
    "daily_count_table = df.Date.groupby(by=df[\"Day\"]).count()\n",
    "all_mails_frequency_dict = daily_count_table.to_dict()\n",
    "sent_mails_table = sent.Date.groupby(by=df[\"Day\"]).count()\n",
    "sent_mails_frequency_dict = sent_mails_table.to_dict()\n",
    "\n",
    "# df[\"Counter\"] =1\n",
    "# table = pd.pivot_table(df,index=['Day'], values=['Counter'], aggfunc=[\"sum\"])\n",
    "# table"
   ]
  },
  {
   "cell_type": "code",
   "execution_count": 13,
   "metadata": {},
   "outputs": [
    {
     "name": "stdout",
     "output_type": "stream",
     "text": [
      "[2994, 3861, 4510, 4292, 4574, 4171, 3489]\n",
      "[90, 81, 73, 92, 70, 74, 80]\n",
      "[2904, 3780, 4437, 4200, 4504, 4097, 3409]\n"
     ]
    }
   ],
   "source": [
    "weekdays = ['Sun','Mon','Tue','Wed','Thu','Fri','Sat']\n",
    "all_mails = []\n",
    "sent_mails = []\n",
    "for it in weekdays:\n",
    "    if it in all_mails_frequency_dict:\n",
    "        all_mails.append(all_mails_frequency_dict[it])\n",
    "        sent_mails.append(sent_mails_frequency_dict[it])\n",
    "\n",
    "received = list(np.subtract(all_mails,sent_mails))\n",
    "print(all_mails)\n",
    "print(sent_mails)\n",
    "print(received)"
   ]
  },
  {
   "cell_type": "code",
   "execution_count": 14,
   "metadata": {},
   "outputs": [
    {
     "data": {
      "image/png": "[encoded data removed]",
      "text/plain": [
       "<Figure size 576x360 with 1 Axes>"
      ]
     },
     "metadata": {
      "needs_background": "light"
     },
     "output_type": "display_data"
    }
   ],
   "source": [
    "fig = plt.figure(figsize = (8, 5)) \n",
    "plt.bar(x=weekdays,height=all_mails,width=0.7)\n",
    "plt.xlabel(\"Weekdays\") \n",
    "plt.ylabel(\"Number of mails\") \n",
    "plt.title(\"Daily frequency of mails\")\n",
    "plt.show()"
   ]
  },
  {
   "cell_type": "markdown",
   "metadata": {},
   "source": [
    "### Stacked bar Chart for sent and recieved mails"
   ]
  },
  {
   "cell_type": "code",
   "execution_count": 15,
   "metadata": {},
   "outputs": [
    {
     "data": {
      "image/png": "[encoded data removed]",
      "text/plain": [
       "<Figure size 576x360 with 1 Axes>"
      ]
     },
     "metadata": {
      "needs_background": "light"
     },
     "output_type": "display_data"
    }
   ],
   "source": [
    "fig = plt.figure(figsize = (8, 5)) \n",
    "\n",
    "plt.bar(weekdays, sent_mails, bottom=received, width=0.7, color='r')\n",
    "plt.bar(weekdays, received, width=0.7, color='#809fff')\n",
    "\n",
    "plt.legend(labels=['Sent', 'Received'])\n",
    "\n",
    "plt.xlabel(\"Weekdays\") \n",
    "plt.ylabel(\"Number of mails\") \n",
    "plt.title(\"Sent and Recieved frequency of mails\")\n",
    "plt.show()"
   ]
  },
  {
   "cell_type": "markdown",
   "metadata": {},
   "source": [
    "### Scatter plot from start of Gmail Account"
   ]
  },
  {
   "cell_type": "code",
   "execution_count": 16,
   "metadata": {},
   "outputs": [],
   "source": [
    "temp = df.Date.groupby(by=df[\"Date\"]).count()"
   ]
  },
  {
   "cell_type": "code",
   "execution_count": 17,
   "metadata": {},
   "outputs": [
    {
     "data": {
      "image/png": "[encoded data removed]",
      "text/plain": [
       "<Figure size 1008x504 with 1 Axes>"
      ]
     },
     "metadata": {
      "needs_background": "light"
     },
     "output_type": "display_data"
    }
   ],
   "source": [
    "fig = plt.figure(figsize = (14, 7)) \n",
    "\n",
    "plt.scatter(temp.index,temp.values)\n",
    "\n",
    "plt.xlabel(\"Years\") \n",
    "plt.ylabel(\"Number of mails\") \n",
    "plt.title(\"All mails Scatter Plot\")\n",
    "plt.show()"
   ]
  },
  {
   "cell_type": "code",
   "execution_count": 19,
   "metadata": {},
   "outputs": [],
   "source": [
    "# b = [0,6,12,18,24]\n",
    "l = ['0-6', '6-12','12-18','18-24']\n",
    "df[\"hour_category\"] = pd.cut(df.Date_Time.dt.hour, bins=[0,6,12,18,24],precision=0,\\\n",
    "           retbins=True,include_lowest=True,ordered=True,labels=l)[0]"
   ]
  },
  {
   "cell_type": "code",
   "execution_count": 23,
   "metadata": {},
   "outputs": [
    {
     "data": {
      "text/html": [
       "<div>\n",
       "<style scoped>\n",
       "    .dataframe tbody tr th:only-of-type {\n",
       "        vertical-align: middle;\n",
       "    }\n",
       "\n",
       "    .dataframe tbody tr th {\n",
       "        vertical-align: top;\n",
       "    }\n",
       "\n",
       "    .dataframe thead th {\n",
       "        text-align: right;\n",
       "    }\n",
       "</style>\n",
       "<table border=\"1\" class=\"dataframe\">\n",
       "  <thead>\n",
       "    <tr style=\"text-align: right;\">\n",
       "      <th></th>\n",
       "      <th>Subject</th>\n",
       "      <th>From</th>\n",
       "      <th>To</th>\n",
       "      <th>Date_Time</th>\n",
       "      <th>Date</th>\n",
       "      <th>Day</th>\n",
       "      <th>Time</th>\n",
       "      <th>Mail_Sent</th>\n",
       "      <th>hour_category</th>\n",
       "    </tr>\n",
       "  </thead>\n",
       "  <tbody>\n",
       "    <tr>\n",
       "      <th>22007</th>\n",
       "      <td>Sravan kumar: 4 new job opportunities for you ...</td>\n",
       "      <td>TimesJobs Job Alert &lt;jobalert@timesjobs.com&gt;</td>\n",
       "      <td>sravanporeddy@gmail.com</td>\n",
       "      <td>2020-05-19 17:44:37+05:30</td>\n",
       "      <td>2020-05-19</td>\n",
       "      <td>Tue</td>\n",
       "      <td>17:44:37</td>\n",
       "      <td>No</td>\n",
       "      <td>12-18</td>\n",
       "    </tr>\n",
       "    <tr>\n",
       "      <th>4464</th>\n",
       "      <td>Reset your Shuttlehub.in password</td>\n",
       "      <td>Shuttlehub &lt;support@shuttlehub.in&gt;</td>\n",
       "      <td>sravan  poreddy &lt;sravanporeddy@gmail.com&gt;</td>\n",
       "      <td>2018-09-30 14:45:44+05:30</td>\n",
       "      <td>2018-09-30</td>\n",
       "      <td>Sun</td>\n",
       "      <td>14:45:44</td>\n",
       "      <td>No</td>\n",
       "      <td>12-18</td>\n",
       "    </tr>\n",
       "    <tr>\n",
       "      <th>3755</th>\n",
       "      <td>Why are you #HereToLearn?</td>\n",
       "      <td>\"University of Michigan\" &lt;no-reply@t.mail.cour...</td>\n",
       "      <td>\"Sravan Kumar Reddy Poreddy\" &lt;sravanporeddy@gm...</td>\n",
       "      <td>2018-09-07 00:47:55+05:30</td>\n",
       "      <td>2018-09-07</td>\n",
       "      <td>Fri</td>\n",
       "      <td>00:47:55</td>\n",
       "      <td>No</td>\n",
       "      <td>0-6</td>\n",
       "    </tr>\n",
       "  </tbody>\n",
       "</table>\n",
       "</div>"
      ],
      "text/plain": [
       "                                                 Subject  \\\n",
       "22007  Sravan kumar: 4 new job opportunities for you ...   \n",
       "4464                   Reset your Shuttlehub.in password   \n",
       "3755                           Why are you #HereToLearn?   \n",
       "\n",
       "                                                    From  \\\n",
       "22007       TimesJobs Job Alert <jobalert@timesjobs.com>   \n",
       "4464                  Shuttlehub <support@shuttlehub.in>   \n",
       "3755   \"University of Michigan\" <no-reply@t.mail.cour...   \n",
       "\n",
       "                                                      To  \\\n",
       "22007                            sravanporeddy@gmail.com   \n",
       "4464           sravan  poreddy <sravanporeddy@gmail.com>   \n",
       "3755   \"Sravan Kumar Reddy Poreddy\" <sravanporeddy@gm...   \n",
       "\n",
       "                      Date_Time        Date  Day      Time Mail_Sent  \\\n",
       "22007 2020-05-19 17:44:37+05:30  2020-05-19  Tue  17:44:37        No   \n",
       "4464  2018-09-30 14:45:44+05:30  2018-09-30  Sun  14:45:44        No   \n",
       "3755  2018-09-07 00:47:55+05:30  2018-09-07  Fri  00:47:55        No   \n",
       "\n",
       "      hour_category  \n",
       "22007         12-18  \n",
       "4464          12-18  \n",
       "3755            0-6  "
      ]
     },
     "execution_count": 23,
     "metadata": {},
     "output_type": "execute_result"
    }
   ],
   "source": [
    "df.sample(3)"
   ]
  },
  {
   "cell_type": "code",
   "execution_count": 24,
   "metadata": {},
   "outputs": [
    {
     "data": {
      "text/plain": [
       "{'0-6': 4094, '6-12': 8732, '12-18': 9511, '18-24': 5554}"
      ]
     },
     "execution_count": 24,
     "metadata": {},
     "output_type": "execute_result"
    }
   ],
   "source": [
    "category_table = df.Date.groupby(by=df[\"hour_category\"]).count()\n",
    "hour_category_table_dict = category_table.to_dict()\n",
    "hour_category_table_dict"
   ]
  },
  {
   "cell_type": "code",
   "execution_count": 25,
   "metadata": {},
   "outputs": [
    {
     "data": {
      "image/png": "[encoded data removed]",
      "text/plain": [
       "<Figure size 576x360 with 1 Axes>"
      ]
     },
     "metadata": {
      "needs_background": "light"
     },
     "output_type": "display_data"
    }
   ],
   "source": [
    "fig = plt.figure(figsize = (8, 5)) \n",
    "plt.bar(x=hour_category_table_dict.keys(),height=hour_category_table_dict.values(),width=0.7)\n",
    "plt.xlabel(\"Hour Category\") \n",
    "plt.ylabel(\"Number of mails\") \n",
    "plt.title(\"Hourly Category Frequency of Mails\")\n",
    "plt.show()"
   ]
  },
  {
   "cell_type": "code",
   "execution_count": null,
   "metadata": {},
   "outputs": [],
   "source": []
  }
 ],
 "metadata": {
  "kernelspec": {
   "display_name": "Python 3",
   "language": "python",
   "name": "python3"
  },
  "language_info": {
   "codemirror_mode": {
    "name": "ipython",
    "version": 3
   },
   "file_extension": ".py",
   "mimetype": "text/x-python",
   "name": "python",
   "nbconvert_exporter": "python",
   "pygments_lexer": "ipython3",
   "version": "3.8.3"
  }
 },
 "nbformat": 4,
 "nbformat_minor": 4
}
